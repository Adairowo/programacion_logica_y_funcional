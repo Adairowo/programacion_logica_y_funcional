{
 "cells": [
  {
   "cell_type": "markdown",
   "id": "4586f3af",
   "metadata": {},
   "source": [
    "# Ejercicio 1\n",
    "Ejercicio 1 de evaluacion de expresiones en Phyton\n",
    "\n",
    "$ \\frac {\\pi ^2}{6} = \\sum _{n=1}^{\\infty} \\frac{1}{n^2}  $"
   ]
  },
  {
   "cell_type": "code",
   "execution_count": 10,
   "id": "8e60b34f",
   "metadata": {},
   "outputs": [
    {
     "name": "stdout",
     "output_type": "stream",
     "text": [
      "valor teorico: 1.6449340668482264, Aproximacion: 1.64493306684777\n",
      "Error 1.000000456441441e-06\n"
     ]
    }
   ],
   "source": [
    "import math\n",
    "res = math.pi**2 / 6\n",
    "res2=0\n",
    "\n",
    "for x in range(1,1000000):\n",
    "    res2+= 1/(x**2)\n",
    "\n",
    "print(f\"valor teorico: {res}, Aproximacion: {res2}\")\n",
    "error = abs(res - res2)\n",
    "print(f\"Error {error}\")\n"
   ]
  },
  {
   "cell_type": "markdown",
   "id": "23d782d6",
   "metadata": {},
   "source": [
    "# expr1 = (3 + 2) * 4 \n",
    "Se suma 3 + 2 y el resultado se multiplica por 4"
   ]
  },
  {
   "cell_type": "code",
   "execution_count": 11,
   "id": "6aaa1f1e",
   "metadata": {},
   "outputs": [
    {
     "name": "stdout",
     "output_type": "stream",
     "text": [
      "El resultado de (3+2)*4 es: 20\n"
     ]
    }
   ],
   "source": [
    "import math\n",
    "x= (3+2)*4\n",
    "print(f\"El resultado de (3+2)*4 es: {x}\")\n"
   ]
  },
  {
   "cell_type": "markdown",
   "id": "bd4af9a5",
   "metadata": {},
   "source": [
    "# expr2 = 2 * 3 ** 2\n",
    "\n",
    "Se multiplico 3 * 2 y el resultado de eso se elevo al cuadrado"
   ]
  },
  {
   "cell_type": "code",
   "execution_count": 28,
   "id": "a9ed8069",
   "metadata": {},
   "outputs": [
    {
     "name": "stdout",
     "output_type": "stream",
     "text": [
      "El resultado de (2*3)**2 es: 18\n"
     ]
    }
   ],
   "source": [
    "import math\n",
    "x= 2*3**2\n",
    "print(f\"El resultado de (2*3)**2 es: {x}\")\n"
   ]
  },
  {
   "cell_type": "markdown",
   "id": "b26ce646",
   "metadata": {},
   "source": [
    "# expr3 = 10 // 3 + 2\n",
    "\n",
    "Se hace una division entera 10 // 3 y al resultado se le suma 2"
   ]
  },
  {
   "cell_type": "code",
   "execution_count": 29,
   "id": "e8affc6c",
   "metadata": {},
   "outputs": [
    {
     "name": "stdout",
     "output_type": "stream",
     "text": [
      "El resultado de 10 // 3 + 2 es: 5\n"
     ]
    }
   ],
   "source": [
    "import math\n",
    "expr3 = 10 // 3 + 2\n",
    "print(f\"El resultado de 10 // 3 + 2 es: {expr3}\")\n"
   ]
  },
  {
   "cell_type": "markdown",
   "id": "72b5e739",
   "metadata": {},
   "source": [
    "# expr4 = 17 % 5 * 2\n",
    "\n",
    "El residuo de 17 % 5 se multiplica por dos\n"
   ]
  },
  {
   "cell_type": "code",
   "execution_count": 30,
   "id": "6327c9db",
   "metadata": {},
   "outputs": [
    {
     "name": "stdout",
     "output_type": "stream",
     "text": [
      "El resultado de 17 % 5 * 2 es: 4\n"
     ]
    }
   ],
   "source": [
    "import math\n",
    "expr4 = 17 % 5 * 2\n",
    "print(f\"El resultado de 17 % 5 * 2 es: {expr4}\")\n"
   ]
  },
  {
   "cell_type": "markdown",
   "id": "373a8dd5",
   "metadata": {},
   "source": [
    "# expr5 = -2 ** 2\n",
    "\n",
    "Se eleva al cuadrado el -2"
   ]
  },
  {
   "cell_type": "code",
   "execution_count": 31,
   "id": "01f3fda4",
   "metadata": {},
   "outputs": [
    {
     "name": "stdout",
     "output_type": "stream",
     "text": [
      "El resultado de -2 ** 2 es: -4\n"
     ]
    }
   ],
   "source": [
    "import math\n",
    "expr5= -2 ** 2\n",
    "print(f\"El resultado de -2 ** 2 es: {expr5}\")"
   ]
  },
  {
   "cell_type": "markdown",
   "id": "638d710f",
   "metadata": {},
   "source": [
    "# expr6 = 3 + 4 * 2 ** 2 // 3\n",
    "\n",
    "Se realiza el numero que esta elevado, despues la divison entera y al final la suma de los numeros"
   ]
  },
  {
   "cell_type": "code",
   "execution_count": 32,
   "id": "639df511",
   "metadata": {},
   "outputs": [
    {
     "name": "stdout",
     "output_type": "stream",
     "text": [
      "El resultado de 3 + 4 * 2 ** 2 // 3 es: 8\n"
     ]
    }
   ],
   "source": [
    "import math \n",
    "expr6 = 3 + 4 * 2 ** 2 // 3\n",
    "print(f\"El resultado de 3 + 4 * 2 ** 2 // 3 es: {expr6}\")\n"
   ]
  },
  {
   "cell_type": "markdown",
   "id": "d4313e18",
   "metadata": {},
   "source": [
    "# expr7 = 3 < 4 < 5\n",
    "\n",
    "Se verifica que el 5 sea mayor que 4, que el 4 sea mayor que 3, y como los numeros cumplen los requisitos el resultado es verdadero"
   ]
  },
  {
   "cell_type": "code",
   "execution_count": 33,
   "id": "d91d262f",
   "metadata": {},
   "outputs": [
    {
     "name": "stdout",
     "output_type": "stream",
     "text": [
      "El resultado de expr7 = 3 < 4 < 5 es: True\n"
     ]
    }
   ],
   "source": [
    "import math \n",
    "expr7 = 3 < 4 < 5\n",
    "print(f\"El resultado de expr7 = 3 < 4 < 5 es: {expr7}\")"
   ]
  },
  {
   "cell_type": "markdown",
   "id": "2c193af9",
   "metadata": {},
   "source": [
    "# expr8 = (3 > 2) and (5 < 10) or False\n",
    "\n",
    "Se compara el 3>2 y el 5<10, como todo es verdadero el resultado es true"
   ]
  },
  {
   "cell_type": "code",
   "execution_count": 34,
   "id": "6b42c63a",
   "metadata": {},
   "outputs": [
    {
     "name": "stdout",
     "output_type": "stream",
     "text": [
      "El resultado de (3 > 2) and (5 < 10) or False es: True\n"
     ]
    }
   ],
   "source": [
    "import math \n",
    "expr8 = (3 > 2) and (5 < 10) or False\n",
    "print(f\"El resultado de (3 > 2) and (5 < 10) or False es: {expr8}\")"
   ]
  },
  {
   "cell_type": "markdown",
   "id": "4d2e54aa",
   "metadata": {},
   "source": [
    "# expr9 = 5 & 3 + 1\n",
    "\n",
    "Se suma 3 + 1 y luego se convierten el 5 y el 4 a binario"
   ]
  },
  {
   "cell_type": "code",
   "execution_count": 38,
   "id": "a2eef2b7",
   "metadata": {},
   "outputs": [
    {
     "name": "stdout",
     "output_type": "stream",
     "text": [
      "El resultado de 5 & 3 + 1 es: 4\n"
     ]
    }
   ],
   "source": [
    "import math \n",
    "expr9 = 5 & 3 + 1\n",
    "print(f\"El resultado de 5 & 3 + 1 es: {expr9}\")"
   ]
  },
  {
   "cell_type": "markdown",
   "id": "a66c8470",
   "metadata": {},
   "source": [
    "# expr10 = (2 + 3) * 4 ** 2 // (5 % 3) and not False\n",
    "\n",
    "Se hace el resultado de la operacion resulta un numero pero al compararse si es falso, se comprueba que no, y el resultado es true"
   ]
  },
  {
   "cell_type": "code",
   "execution_count": 39,
   "id": "82bbe36c",
   "metadata": {},
   "outputs": [
    {
     "name": "stdout",
     "output_type": "stream",
     "text": [
      "El resultado de (2 + 3) * 4 ** 2 // (5 % 3) and not False es: True\n"
     ]
    }
   ],
   "source": [
    "import math\n",
    "expr10 = (2 + 3) * 4 ** 2 // (5 % 3) and not False\n",
    "print(f\"El resultado de (2 + 3) * 4 ** 2 // (5 % 3) and not False es: {expr10}\")"
   ]
  },
  {
   "cell_type": "markdown",
   "id": "3ca42b27",
   "metadata": {},
   "source": [
    "# expr11 =  ((65 & 66) > 70 ) And not (65 ^ 66) == 0 \n",
    "\n",
    "Se hace un and de 65 y 66, el resultado es 64 decimal, este resultado es menor que 70 entonces es falso,"
   ]
  },
  {
   "cell_type": "code",
   "execution_count": 40,
   "id": "419d134e",
   "metadata": {},
   "outputs": [
    {
     "name": "stdout",
     "output_type": "stream",
     "text": [
      "El resultado de ((65 & 66) > 70 ) and not (65 ^ 66) == 0  es: False\n"
     ]
    }
   ],
   "source": [
    "import math\n",
    "expr11 =  ((65 & 66) > 70 ) and not (65 ^ 66) == 0 \n",
    "print(f\"El resultado de ((65 & 66) > 70 ) and not (65 ^ 66) == 0  es: {expr11}\")"
   ]
  }
 ],
 "metadata": {
  "kernelspec": {
   "display_name": "Python 3",
   "language": "python",
   "name": "python3"
  },
  "language_info": {
   "codemirror_mode": {
    "name": "ipython",
    "version": 3
   },
   "file_extension": ".py",
   "mimetype": "text/x-python",
   "name": "python",
   "nbconvert_exporter": "python",
   "pygments_lexer": "ipython3",
   "version": "3.11.4"
  }
 },
 "nbformat": 4,
 "nbformat_minor": 5
}
